{
 "cells": [
  {
   "cell_type": "markdown",
   "metadata": {},
   "source": [
    "# Lab 1: Problem 1 (Q-learning)"
   ]
  },
  {
   "cell_type": "markdown",
   "metadata": {},
   "source": [
    "*OpenAI gym FrozenLake environment*\n",
    "\n",
    "Winter is here. You and your friends were tossing around a frisbee at the park\n",
    "    when you made a wild throw that left the frisbee out in the middle of the lake.\n",
    "    The water is mostly frozen, but there are a few holes where the ice has melted.\n",
    "    If you step into one of those holes, you'll fall into the freezing water.\n",
    "    At this time, there's an international frisbee shortage, so it's absolutely imperative that\n",
    "    you navigate across the lake and retrieve the disc.\n",
    "    However, the ice is slippery, so you won't always move in the direction you intend.\n",
    "    The surface is described using a grid like the following\n",
    "\n",
    "        SFFF\n",
    "        FHFH\n",
    "        FFFH\n",
    "        HFFG\n",
    "\n",
    "    S : starting point, safe\n",
    "    F : frozen surface, safe\n",
    "    H : hole, fall to your doom\n",
    "    G : goal, where the frisbee is located\n",
    "\n",
    "    The episode ends when you reach the goal or fall in a hole.\n",
    "    You receive a reward of 1 if you reach the goal, and zero otherwise.\n",
    "    \n",
    "    FrozenLake-v0 defines \"solving\" as getting average reward of 0.78 over 100 consecutive trials.\n"
   ]
  },
  {
   "cell_type": "code",
   "execution_count": 189,
   "metadata": {},
   "outputs": [
    {
     "data": {
      "text/plain": [
       "[0]"
      ]
     },
     "execution_count": 189,
     "metadata": {},
     "output_type": "execute_result"
    }
   ],
   "source": [
    "## DO NOT CHANGE THIS CELL\n",
    "import numpy as np\n",
    "import gym\n",
    "env=gym.make('FrozenLake-v0')\n",
    "env.seed(0)"
   ]
  },
  {
   "cell_type": "markdown",
   "metadata": {},
   "source": [
    "For proper accounting rewards while you learn, we build a wrapper around env.step() and env.reset(). In an episode, every time you take an action the reward will be appended to the reward of the episode, and when ever the environment is reset (at the end of an epsiode), the episode reward is reset to 0. "
   ]
  },
  {
   "cell_type": "code",
   "execution_count": 190,
   "metadata": {},
   "outputs": [],
   "source": [
    "## DO NOT CHANGE THIS CELL\n",
    "#wrapper for accounting rewards\n",
    "rEpisode=0\n",
    "rList=[]\n",
    "\n",
    "def reset_decorate(func):\n",
    "    def func_wrapper():\n",
    "        global rList\n",
    "        global rEpisode\n",
    "        rList.append(rEpisode)\n",
    "        rEpisode=0\n",
    "        return(func())\n",
    "    return func_wrapper\n",
    "\n",
    "env.reset = reset_decorate(env.reset)\n",
    "\n",
    "def step_decorate(func):\n",
    "    def func_wrapper(action):\n",
    "        global rEpisode\n",
    "        s1, r, d, other = func(action)\n",
    "        rEpisode+=r\n",
    "        return(s1, r, d, other)\n",
    "    return func_wrapper\n",
    "\n",
    "env.step = step_decorate(env.step)\n",
    "\n",
    "def init():\n",
    "    rEpisode=0\n",
    "    rList=[]\n",
    "    return;"
   ]
  },
  {
   "cell_type": "code",
   "execution_count": 191,
   "metadata": {},
   "outputs": [],
   "source": [
    "## DO NOT CHANGE THIS CELL\n",
    "# PLOTTING functions\n",
    "from numpy import convolve, ones\n",
    "def movingaverage(interval, window_size):\n",
    "    window= np.ones(int(window_size))/float(window_size)\n",
    "    return np.convolve(interval, window, 'valid')\n",
    "from pylab import plot\n",
    "%matplotlib inline "
   ]
  },
  {
   "cell_type": "markdown",
   "metadata": {},
   "source": [
    "Below we illustrate the execution of the Open AI gym enviornment using the policy of chosing random action in every state. Every time an action is taken the enviorment returns a tuple containing next state, reward, and the status (whether terminal state is reached or not). "
   ]
  },
  {
   "cell_type": "code",
   "execution_count": 192,
   "metadata": {},
   "outputs": [],
   "source": [
    "### RANDOM SAMPLING EXAMPLE\n",
    "num_episodes=5000; #number of episodes you want to try\n",
    "episode_max_length=100; #you can explicitly end the epsiode before terminal state is reached\n",
    "\n",
    "env.reset()\n",
    "#env.render()\n",
    "#execute in episodes\n",
    "for i in range(num_episodes):\n",
    "    d = False #not done\n",
    "    #rFinal=0\n",
    "    for t in range(episode_max_length):\n",
    "        \n",
    "        ################ Random action policy ###########################\n",
    "        #play random action \n",
    "        a = env.action_space.sample()\n",
    "        #get new state, reward, done\n",
    "        s, r, d, _ = env.step(a)\n",
    "        #################################################################\n",
    "        \n",
    "        \n",
    "        #break if done, reached terminal state \n",
    "        if d == True:\n",
    "            break\n",
    "    #reset the environment for the next episode\n",
    "    s = env.reset()\n",
    "    \n"
   ]
  },
  {
   "cell_type": "markdown",
   "metadata": {},
   "source": [
    "plotting moving average over 100 episodes"
   ]
  },
  {
   "cell_type": "code",
   "execution_count": 193,
   "metadata": {},
   "outputs": [
    {
     "data": {
      "image/png": "[encoded data removed]",
      "text/plain": [
       "<Figure size 432x288 with 1 Axes>"
      ]
     },
     "metadata": {
      "needs_background": "light"
     },
     "output_type": "display_data"
    }
   ],
   "source": [
    "rm=movingaverage(rList, 100)\n",
    "plot(rm)\n",
    "rEpisode=0\n",
    "rList=[]"
   ]
  },
  {
   "cell_type": "markdown",
   "metadata": {},
   "source": [
    "Implement tabular Q-learning (*YOU SHOULD ONLY CHANGE THE CELL BELOW*)"
   ]
  },
  {
   "cell_type": "code",
   "execution_count": 212,
   "metadata": {},
   "outputs": [],
   "source": [
    "###ALWAYS DO RUN ALL CELLS, otherwise some structures may not get initialized properly\n",
    "rEpisode=0\n",
    "rList=[]\n",
    "\n",
    "#initialize episodic structure\n",
    "num_episodes=5000;\n",
    "episode_max_length=100;\n",
    "\n",
    "#initialize discount factor, learning rate\n",
    "gamma=0.95\n",
    "learnRate=0.8\n",
    "\n",
    "#create Q table\n",
    "Q=np.zeros([env.observation_space.n,env.action_space.n]) #matrix Q[s,a]\n",
    "N=np.zeros([env.observation_space.n]) #number of visit to states\n",
    "#execute in episodes\n",
    "for i in range(num_episodes):\n",
    "    #reset the environment at the beginning of an episode\n",
    "    s = env.reset()\n",
    "    d = False #not done\n",
    "    \n",
    "    for t in range(episode_max_length):\n",
    "        \n",
    "        ###########SELCT ACTION a for state s using Q-values ##################\n",
    "        #example\n",
    "        non_greedy=np.array([0,1,2,3])\n",
    "        \n",
    "        n=N[s]\n",
    "        if np.array_equal(Q[s,:],([0,0,0,0])):\n",
    "            a = env.action_space.sample()\n",
    "            N[s]+=1\n",
    "        else :\n",
    "            greedy= np.argmax(Q[s,:])\n",
    "            non_greedy=np.delete(non_greedy,greedy)\n",
    "            action=np.hstack([greedy,non_greedy])\n",
    "           \n",
    "            #a = env.action_space.sample()\n",
    "            a=np.random.choice(action,p=[1-3/(4*(n+1)),1/(4*(n+1)),1/(4*(n+1)),1/(4*(n+1))])\n",
    "            N[s]+=1\n",
    "        #get new state, reward, done\n",
    "        s1, r, d, _ = env.step(a)\n",
    "        \n",
    "        ##### update Q(s,a) ############\n",
    "        up=Q[s,a]+learnRate*(r+gamma*max(Q[s1,:])-Q[s,a])\n",
    "        Q[s,a]=up\n",
    "        #break if done, reached terminal state \n",
    "        if d == True:\n",
    "            break\n",
    "        s=s1\n",
    "        "
   ]
  },
  {
   "cell_type": "markdown",
   "metadata": {},
   "source": [
    "plot moving average over 100 episodes"
   ]
  },
  {
   "cell_type": "code",
   "execution_count": 213,
   "metadata": {
    "scrolled": true
   },
   "outputs": [
    {
     "data": {
      "text/plain": [
       "[<matplotlib.lines.Line2D at 0x1d96a25f7c8>]"
      ]
     },
     "execution_count": 213,
     "metadata": {},
     "output_type": "execute_result"
    },
    {
     "data": {
      "image/png": "[encoded data removed]",
      "text/plain": [
       "<Figure size 432x288 with 1 Axes>"
      ]
     },
     "metadata": {
      "needs_background": "light"
     },
     "output_type": "display_data"
    }
   ],
   "source": [
    "## DO NOT CHANGE THIS CELL\n",
    "rm=movingaverage(rList, 100)\n",
    "plot(rm)"
   ]
  },
  {
   "cell_type": "markdown",
   "metadata": {},
   "source": [
    "Run all the code in order.\\\n",
    "Save the notebook file.\\\n",
    "Upload on eTL."
   ]
  },
  {
   "cell_type": "code",
   "execution_count": null,
   "metadata": {},
   "outputs": [],
   "source": []
  }
 ],
 "metadata": {
  "kernelspec": {
   "display_name": "Python 3",
   "language": "python",
   "name": "python3"
  },
  "language_info": {
   "codemirror_mode": {
    "name": "ipython",
    "version": 3
   },
   "file_extension": ".py",
   "mimetype": "text/x-python",
   "name": "python",
   "nbconvert_exporter": "python",
   "pygments_lexer": "ipython3",
   "version": "3.7.6"
  }
 },
 "nbformat": 4,
 "nbformat_minor": 1
}
