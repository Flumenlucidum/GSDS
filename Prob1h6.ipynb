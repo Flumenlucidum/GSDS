{
 "cells": [
  {
   "cell_type": "code",
   "execution_count": 115,
   "metadata": {},
   "outputs": [],
   "source": [
    "from collections import deque\n",
    "class Graph():\n",
    "    \n",
    "            \n",
    "    #since large.txt is dense-> chose adjacency list\n",
    "    def __init__(self,filename):\n",
    "        graphdict=dict()#dictionary with key as a node and value as a value of adjacent node\n",
    "        f=open(filename,'r')\n",
    "        lines=f.readlines()  # treating each line\n",
    "        for line in lines:  \n",
    "            linelist=line.split(',')   #split two nodes\n",
    "            a,b=int(linelist[0]),int(linelist[1])\n",
    "            \n",
    "            if a in graphdict.keys() and b in graphdict.keys():\n",
    "                graphdict[a].append(b)\n",
    "                graphdict[b].append(a)\n",
    "            elif a in graphdict.keys() and b not in graphdict.keys():\n",
    "                graphdict[a].append(b)\n",
    "                graphdict[b]=[a]\n",
    "            elif a not in graphdict.keys() and b in graphdict.keys():\n",
    "                graphdict[b].append(a)\n",
    "                graphdict[a]=[b]\n",
    "            else:\n",
    "                graphdict[a]=[b]\n",
    "                graphdict[b]=[a]\n",
    "        self.graphdict=graphdict\n",
    "      \n",
    "        \n",
    "        f.close  #close file \n",
    "    \n",
    "    \n",
    "    def check_distance(self,x,y,max_distance):\n",
    "        q=deque()\n",
    "        \n",
    "        a={}  #another dictionary for coloring and distancing\n",
    "        for key in self.graphdict.keys():\n",
    "            a[key]=['W',-1,None]\n",
    "        q.append(x)\n",
    "        \n",
    "        a[x]=['G',0,None]\n",
    "        \n",
    "        while (len(q)>0):\n",
    "            u=q.popleft()\n",
    "            for adj_node in self.graphdict[u]:\n",
    "                if a[adj_node][0]=='W':\n",
    "                    q.append(adj_node)\n",
    "                    a[adj_node][1]=a[u][1]+1\n",
    "                    a[adj_node][2]=u\n",
    "                    a[adj_node][0]='G'\n",
    "                    \n",
    "                    if adj_node==y:\n",
    "                        if max_distance>=a[adj_node][1]:\n",
    "                            return True\n",
    "                        else:\n",
    "                            return False\n",
    "\n",
    "            a[u][0]='B'\n",
    "            \n",
    "        return False\n",
    "\n",
    "        \n",
    "            "
   ]
  },
  {
   "cell_type": "code",
   "execution_count": 116,
   "metadata": {},
   "outputs": [],
   "source": [
    "g=Graph('small.txt')"
   ]
  },
  {
   "cell_type": "code",
   "execution_count": 117,
   "metadata": {},
   "outputs": [
    {
     "data": {
      "text/plain": [
       "{0: [1], 1: [0, 4, 6], 4: [1, 5], 5: [4], 6: [1], 2: [7], 7: [2, 3], 3: [7]}"
      ]
     },
     "execution_count": 117,
     "metadata": {},
     "output_type": "execute_result"
    }
   ],
   "source": [
    "g.graphdict"
   ]
  },
  {
   "cell_type": "code",
   "execution_count": 119,
   "metadata": {},
   "outputs": [
    {
     "data": {
      "text/plain": [
       "True"
      ]
     },
     "execution_count": 119,
     "metadata": {},
     "output_type": "execute_result"
    }
   ],
   "source": [
    "g.check_distance(1,6,4)"
   ]
  },
  {
   "cell_type": "code",
   "execution_count": 120,
   "metadata": {},
   "outputs": [
    {
     "name": "stdout",
     "output_type": "stream",
     "text": [
      "True\n"
     ]
    }
   ],
   "source": [
    "print(g.check_distance(0,1,1))"
   ]
  },
  {
   "cell_type": "code",
   "execution_count": 121,
   "metadata": {},
   "outputs": [
    {
     "name": "stdout",
     "output_type": "stream",
     "text": [
      "True\n",
      "False\n",
      "True\n",
      "False\n",
      "False\n"
     ]
    }
   ],
   "source": [
    "print(g.check_distance(0,1,2))\n",
    "print(g.check_distance(0,4,1))\n",
    "print(g.check_distance(0,4,2))\n",
    "print(g.check_distance(0,2,1))\n",
    "print(g.check_distance(0,2,1000000))"
   ]
  },
  {
   "cell_type": "code",
   "execution_count": null,
   "metadata": {},
   "outputs": [],
   "source": []
  }
 ],
 "metadata": {
  "kernelspec": {
   "display_name": "Python 3",
   "language": "python",
   "name": "python3"
  },
  "language_info": {
   "codemirror_mode": {
    "name": "ipython",
    "version": 3
   },
   "file_extension": ".py",
   "mimetype": "text/x-python",
   "name": "python",
   "nbconvert_exporter": "python",
   "pygments_lexer": "ipython3",
   "version": "3.7.6"
  }
 },
 "nbformat": 4,
 "nbformat_minor": 4
}
