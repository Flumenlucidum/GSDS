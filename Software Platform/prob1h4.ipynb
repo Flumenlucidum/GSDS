{
 "cells": [
  {
   "cell_type": "code",
   "execution_count": 1,
   "metadata": {},
   "outputs": [],
   "source": [
    "def bubble_sort(l):\n",
    "    def swap(i,j):\n",
    "        t=l[i]\n",
    "        l[i]=l[j]\n",
    "        l[j]=t\n",
    "    for i in reversed(range(len(l))):\n",
    "        for j in range(i):\n",
    "            if l[j]>=l[j+1]:\n",
    "                swap(j,j+1)\n",
    "    return l"
   ]
  },
  {
   "cell_type": "code",
   "execution_count": 16,
   "metadata": {},
   "outputs": [
    {
     "data": {
      "text/plain": [
       "[0, 1, 2, 3, 5, 6, 33, 453]"
      ]
     },
     "execution_count": 16,
     "metadata": {},
     "output_type": "execute_result"
    }
   ],
   "source": [
    "bubble_sort([5,6,33,2,3,453,1,0])"
   ]
  },
  {
   "cell_type": "code",
   "execution_count": 3,
   "metadata": {},
   "outputs": [],
   "source": [
    "def insertion_sort(l):\n",
    "    sorted_list=l[0:1]\n",
    "    unsorted_list=l[1:]\n",
    "    while (unsorted_list!=[]):\n",
    "        a=unsorted_list[0]\n",
    "        for b in range(len(sorted_list)):\n",
    "            if sorted_list[b]>a:\n",
    "                sorted_list.insert(b,a)\n",
    "                del unsorted_list[0]\n",
    "                break\n",
    "            elif b<len(sorted_list)-1:\n",
    "                pass\n",
    "            elif b==len(sorted_list)-1:\n",
    "                sorted_list.append(a)\n",
    "                del unsorted_list[0]\n",
    "                break\n",
    "        \n",
    "    return sorted_list\n",
    "                       \n",
    "            \n",
    "         \n"
   ]
  },
  {
   "cell_type": "code",
   "execution_count": 28,
   "metadata": {},
   "outputs": [
    {
     "data": {
      "text/plain": [
       "[2, 3, 3, 3, 5, 6, 7, 8, 9]"
      ]
     },
     "execution_count": 28,
     "metadata": {},
     "output_type": "execute_result"
    }
   ],
   "source": [
    "insertion_sort([3,3,3,7,2,6,5,9,8])"
   ]
  },
  {
   "cell_type": "code",
   "execution_count": 3,
   "metadata": {},
   "outputs": [],
   "source": [
    "def merge_sort(l):\n",
    "    if (len(l)==0) or (len(l)==1):\n",
    "        return(l)\n",
    "    def merge(left, right):\n",
    "        len_left=len(left);len_right=len(right)\n",
    "        i_left=0;i_right=0\n",
    "        tempo=[]\n",
    "        while i_left<len_left and i_right<len_right:\n",
    "            if left[0]<right[0]:\n",
    "                tempo.append(left[0])\n",
    "                del left[0]\n",
    "                i_left+=1\n",
    "            elif left[0]>right[0]:\n",
    "                tempo.append(right[0])\n",
    "                del right[0]\n",
    "                i_right+=1\n",
    "            else:\n",
    "                tempo.append(left[0])\n",
    "                tempo.append(right[0])\n",
    "                del left[0] \n",
    "                del right[0]\n",
    "                i_left+=1;i_right+=1\n",
    "        if i_left==len_left and i_right==len_right:\n",
    "            del left\n",
    "            del right\n",
    "        elif i_left==len_left:\n",
    "            del left\n",
    "            tempo=tempo+right\n",
    "        elif i_right==len_right:\n",
    "            tempo=tempo+left\n",
    "        return tempo\n",
    "    idx=int(len(l)/2)\n",
    "    leftone=merge_sort(l[0:idx])\n",
    "    rightone=merge_sort(l[idx:])\n",
    "    result=merge(leftone,rightone)\n",
    "    return result"
   ]
  },
  {
   "cell_type": "code",
   "execution_count": 15,
   "metadata": {},
   "outputs": [
    {
     "data": {
      "text/plain": [
       "[2, 3, 4, 7, 8, 9, 24]"
      ]
     },
     "execution_count": 15,
     "metadata": {},
     "output_type": "execute_result"
    }
   ],
   "source": [
    "merge_sort([7,2,24,4,9,3,8])"
   ]
  },
  {
   "cell_type": "code",
   "execution_count": 3,
   "metadata": {},
   "outputs": [
    {
     "name": "stdout",
     "output_type": "stream",
     "text": [
      "[3] [2]\n",
      "[7] [13]\n",
      "[2, 3] [7, 13]\n",
      "[8] [5]\n",
      "[47] [9]\n",
      "[22] [9, 47]\n",
      "[5, 8] [9, 22, 47]\n",
      "[2, 3, 7, 13] [5, 8, 9, 22, 47]\n"
     ]
    },
    {
     "data": {
      "text/plain": [
       "[2, 3, 5, 7, 8, 9, 13, 22, 47]"
      ]
     },
     "execution_count": 3,
     "metadata": {},
     "output_type": "execute_result"
    }
   ],
   "source": [
    "merge_sort([3,2,7,13,8,5,22,47,9])"
   ]
  },
  {
   "cell_type": "code",
   "execution_count": 5,
   "metadata": {},
   "outputs": [],
   "source": [
    "def quick_sort(l):\n",
    "    def qs(l,low,high):\n",
    "        if(low<high): \n",
    "            small=[]\n",
    "            large=[]\n",
    "            pivot=l[low]\n",
    "            for i in l[low+1:high+1]:\n",
    "                if i<pivot:\n",
    "                    small.append(i)\n",
    "                else:\n",
    "                    large.append(i)\n",
    "            idx=low\n",
    "            for i in small:\n",
    "                l[idx]=i\n",
    "                idx+=1\n",
    "            small_last=idx-1\n",
    "            l[idx]=pivot\n",
    "            large_first=idx+1\n",
    "            idx+=1\n",
    "            for i in large:\n",
    "                l[idx]=i\n",
    "                idx+=1\n",
    "           \n",
    "            qs(l,low,small_last)\n",
    "            qs(l,large_first,idx-1)\n",
    "           \n",
    "        return l\n",
    "    \n",
    "    qs(l,0,len(l)-1)\n",
    "    return l"
   ]
  },
  {
   "cell_type": "code",
   "execution_count": 7,
   "metadata": {},
   "outputs": [
    {
     "data": {
      "text/plain": [
       "[2, 4, 3, 7, 24, 9, 8]"
      ]
     },
     "execution_count": 7,
     "metadata": {},
     "output_type": "execute_result"
    }
   ],
   "source": [
    "partition([7,2,24,4,9,3,8],0,6)"
   ]
  },
  {
   "cell_type": "code",
   "execution_count": 77,
   "metadata": {},
   "outputs": [
    {
     "name": "stdout",
     "output_type": "stream",
     "text": [
      "[2, 4, 3] 7 [24, 9, 8, 52, 11, 29]\n",
      "[] 2 [4, 3]\n",
      "[3] 4 []\n",
      "[9, 8, 11] 24 [52, 29]\n",
      "[8] 9 [11]\n",
      "[29] 52 []\n"
     ]
    },
    {
     "data": {
      "text/plain": [
       "[2, 3, 4, 7, 8, 9, 11, 24, 29, 52]"
      ]
     },
     "execution_count": 77,
     "metadata": {},
     "output_type": "execute_result"
    }
   ],
   "source": [
    "quick_sort([7,2,24,4,9,3,8,52,11,29])"
   ]
  },
  {
   "cell_type": "code",
   "execution_count": 62,
   "metadata": {},
   "outputs": [],
   "source": [
    "i=range(1000,0,-5)"
   ]
  },
  {
   "cell_type": "code",
   "execution_count": 63,
   "metadata": {},
   "outputs": [
    {
     "data": {
      "text/plain": [
       "range(1000, 0, -5)"
      ]
     },
     "execution_count": 63,
     "metadata": {},
     "output_type": "execute_result"
    }
   ],
   "source": [
    "i"
   ]
  },
  {
   "cell_type": "code",
   "execution_count": 64,
   "metadata": {},
   "outputs": [
    {
     "name": "stdout",
     "output_type": "stream",
     "text": [
      "range(1000, 0, -5)\n"
     ]
    }
   ],
   "source": [
    "print(i)"
   ]
  },
  {
   "cell_type": "code",
   "execution_count": 67,
   "metadata": {},
   "outputs": [],
   "source": [
    "a=list(i)"
   ]
  },
  {
   "cell_type": "code",
   "execution_count": 20,
   "metadata": {},
   "outputs": [],
   "source": [
    "def radix_sort(l,d):\n",
    "    def insertion_sort(l):\n",
    "        sorted_list=l[0:1]\n",
    "        unsorted_list=l[1:]\n",
    "        while (unsorted_list!=[]):\n",
    "            a=unsorted_list[0]\n",
    "            for b in range(len(sorted_list)):\n",
    "                if sorted_list[b][1]>a[1]:\n",
    "                    sorted_list.insert(b,a)\n",
    "                    del unsorted_list[0]\n",
    "                    break\n",
    "                elif b<len(sorted_list)-1:\n",
    "                    pass\n",
    "                elif b==len(sorted_list)-1:\n",
    "                    sorted_list.append(a)\n",
    "                    del unsorted_list[0]\n",
    "                    break\n",
    "\n",
    "        return sorted_list\n",
    "    t=[]\n",
    "    for i in range(0,d):\n",
    "        x=10**i\n",
    "        \n",
    "        if t==[]:\n",
    "            for mem in l:\n",
    "\n",
    "                y=mem%(x*10)\n",
    "                z=y//x\n",
    "                t.append([mem,z])\n",
    "\n",
    "            t=insertion_sort(t)\n",
    "       \n",
    "        else:\n",
    "            k=0\n",
    "            for mem in [pair[0] for pair in t] :\n",
    "                y=mem%(x*10)\n",
    "                z=y//x\n",
    "                t[k][1]=z\n",
    "                k+=1\n",
    "            \n",
    "            t=insertion_sort(t)\n",
    "        \n",
    "    \n",
    "    result=[pair[0] for pair in t]\n",
    "    return result\n",
    "        \n",
    "    "
   ]
  },
  {
   "cell_type": "code",
   "execution_count": 7,
   "metadata": {},
   "outputs": [],
   "source": [
    "code=[232,212,333,324,128]"
   ]
  },
  {
   "cell_type": "code",
   "execution_count": 10,
   "metadata": {},
   "outputs": [
    {
     "data": {
      "text/plain": [
       "[128, 212, 232, 324, 333]"
      ]
     },
     "execution_count": 10,
     "metadata": {},
     "output_type": "execute_result"
    }
   ],
   "source": [
    "radix_sort(code,3)"
   ]
  },
  {
   "cell_type": "code",
   "execution_count": 60,
   "metadata": {},
   "outputs": [],
   "source": [
    "code1=[[232,1],[333,0]]"
   ]
  },
  {
   "cell_type": "code",
   "execution_count": 22,
   "metadata": {},
   "outputs": [
    {
     "data": {
      "text/plain": [
       "[1, 2, 3, 4, 5]"
      ]
     },
     "execution_count": 22,
     "metadata": {},
     "output_type": "execute_result"
    }
   ],
   "source": [
    "radix_sort([3,5,4,1,2],1)"
   ]
  },
  {
   "cell_type": "code",
   "execution_count": 70,
   "metadata": {},
   "outputs": [
    {
     "data": {
      "text/plain": [
       "[232, 333]"
      ]
     },
     "execution_count": 70,
     "metadata": {},
     "output_type": "execute_result"
    }
   ],
   "source": [
    "[mem[0] for mem in code1]"
   ]
  },
  {
   "cell_type": "code",
   "execution_count": 6,
   "metadata": {},
   "outputs": [
    {
     "ename": "SyntaxError",
     "evalue": "invalid syntax (<ipython-input-6-d28ca321aeb4>, line 3)",
     "output_type": "error",
     "traceback": [
      "\u001b[1;36m  File \u001b[1;32m\"<ipython-input-6-d28ca321aeb4>\"\u001b[1;36m, line \u001b[1;32m3\u001b[0m\n\u001b[1;33m    def time_check(start,fin,by,function,rstart,rfin,rby)\u001b[0m\n\u001b[1;37m                                                         ^\u001b[0m\n\u001b[1;31mSyntaxError\u001b[0m\u001b[1;31m:\u001b[0m invalid syntax\n"
     ]
    }
   ],
   "source": [
    "import timeit\n",
    "\n",
    "def time_check(start,fin,by,function,rstart,rfin,rby)\n",
    "    fin=[]\n",
    "    for i in list(range(start,fin,by)):\n",
    "        code='from __main__ import {}'.format(function)\n",
    "        code_main='merge_sort(list(range({0},{1},{2})))'.format(str(rstart),str(rfin),str(rby))\n",
    "\n",
    "        execution_time = timeit.repeat(stmt=code_main, setup= code, number=1, repeat=3)\n",
    "\n",
    "        ti=min(execution_time)\n",
    "\n",
    "        fin.append(ti)\n",
    "    "
   ]
  },
  {
   "cell_type": "code",
   "execution_count": 70,
   "metadata": {},
   "outputs": [
    {
     "data": {
      "text/plain": [
       "[0.0008144000003085239,\n",
       " 0.0013030999998591142,\n",
       " 0.002217999999629683,\n",
       " 0.003386000000318745,\n",
       " 0.0054197000008571194,\n",
       " 0.004815899999812245,\n",
       " 0.0019308000009914394,\n",
       " 0.0014363999998749932,\n",
       " 0.0012263000007806113,\n",
       " 0.0013507999992725672,\n",
       " 0.0020583000004990026,\n",
       " 0.0015648999997210922,\n",
       " 0.001763599999321741,\n",
       " 0.0034570000007079216,\n",
       " 0.0015406000002258224,\n",
       " 0.0016324999996868428,\n",
       " 0.0015587999987474177,\n",
       " 0.0017023000000335742,\n",
       " 0.002663600000232691,\n",
       " 0.0019775000000663567,\n",
       " 0.002091499998641666,\n",
       " 0.0022693999999319203,\n",
       " 0.002319199998964905,\n",
       " 0.0025230999999621417,\n",
       " 0.004521299999396433,\n",
       " 0.005798299998787115,\n",
       " 0.006265900001380942,\n",
       " 0.006994200000917772,\n",
       " 0.003287100000306964,\n",
       " 0.004048599999805447,\n",
       " 0.004190199999356992,\n",
       " 0.0049063000005844515,\n",
       " 0.004592600000250968,\n",
       " 0.004723599999124417,\n",
       " 0.005535599999348051,\n",
       " 0.004705699999249191,\n",
       " 0.00504220000038913,\n",
       " 0.006397499999366119,\n",
       " 0.00691980000010517,\n",
       " 0.008007299999007955,\n",
       " 0.008396199998969678,\n",
       " 0.005959699999948498,\n",
       " 0.006076800000300864,\n",
       " 0.0075392999988252996,\n",
       " 0.007801699999617995,\n",
       " 0.008639000001494423,\n",
       " 0.008267999999588937,\n",
       " 0.007258199999341741,\n",
       " 0.00972159999946598,\n",
       " 0.012462000000596163,\n",
       " 0.017823000000134925,\n",
       " 0.016816999999718973,\n",
       " 0.014225000000806176,\n",
       " 0.027172000000064145,\n",
       " 0.0217147000003024,\n",
       " 0.03241580000030808,\n",
       " 0.020059300000866642,\n",
       " 0.014540799998940201,\n",
       " 0.01652239999930316,\n",
       " 0.010715399999753572,\n",
       " 0.011014199999408447,\n",
       " 0.012217600000440143,\n",
       " 0.01511700000082783,\n",
       " 0.011995000000752043,\n",
       " 0.01554269999905955,\n",
       " 0.013273999999000807,\n",
       " 0.015935200000967598,\n",
       " 0.017687999999907333,\n",
       " 0.017943900000318536,\n",
       " 0.01591319999897678,\n",
       " 0.019690499999342137]"
      ]
     },
     "execution_count": 70,
     "metadata": {},
     "output_type": "execute_result"
    }
   ],
   "source": [
    "fin"
   ]
  },
  {
   "cell_type": "code",
   "execution_count": 67,
   "metadata": {},
   "outputs": [
    {
     "name": "stdout",
     "output_type": "stream",
     "text": [
      "0 0.0012038000004395144\n",
      "1 0.0014381000000867061\n",
      "2 0.001460699999370263\n",
      "3 0.0016317000008712057\n",
      "4 0.0006651999992755009\n",
      "5 0.0006969000005483394\n",
      "6 0.001839000000472879\n",
      "7 0.002733799999987241\n",
      "8 0.0022979000004852423\n",
      "9 0.0012984000004507834\n",
      "10 0.001027900001645321\n",
      "11 0.0020695999992312863\n",
      "12 0.0018244000002596295\n",
      "13 0.0020617999998648884\n",
      "14 0.000851800001328229\n",
      "15 0.0006008999989717267\n",
      "16 0.0014589000002160901\n",
      "17 0.0017346000004181406\n",
      "18 0.001160899999376852\n",
      "19 0.0005512000007001916\n",
      "20 0.0007058999999571824\n",
      "21 0.0006040000007487833\n",
      "22 0.0006596000002900837\n",
      "23 0.0005767000002379064\n",
      "24 0.0005968000004941132\n",
      "25 0.0006945000004634494\n",
      "26 0.0006126999996922677\n",
      "27 0.0006296000010479474\n",
      "28 0.0006465999995270977\n",
      "29 0.0007592000001750421\n",
      "30 0.0008626999988337047\n",
      "31 0.0008410999998886837\n",
      "32 0.0008637000009912299\n",
      "33 0.0007814000000507804\n",
      "34 0.0007612000008521136\n",
      "35 0.0007671000003028894\n",
      "36 0.0007970999995450256\n",
      "37 0.0015817000003153225\n",
      "38 0.0015793999991728924\n",
      "39 0.0016199999990931246\n",
      "40 0.0016594999997323612\n",
      "41 0.0016697999999450985\n",
      "42 0.0017229999994015088\n",
      "43 0.0017756999986886512\n",
      "44 0.0018192000006820308\n",
      "45 0.0018534999999246793\n",
      "46 0.001905199998873286\n",
      "47 0.0010153000002901535\n",
      "48 0.0010373000004619826\n",
      "49 0.0010559000002103858\n",
      "50 0.0010934999991150107\n",
      "51 0.0011019000012311153\n",
      "52 0.0012089000010746531\n",
      "53 0.001443499999368214\n",
      "54 0.0011491999994177604\n",
      "55 0.0011900999998033512\n",
      "56 0.0011948999999731313\n",
      "57 0.0012151999999332475\n",
      "58 0.0012740000001940643\n",
      "59 0.0012580000002344605\n",
      "60 0.0014527999992424157\n",
      "61 0.0016941999983828282\n",
      "62 0.0025398999987373827\n",
      "63 0.0025686999997560633\n",
      "64 0.0026020000004791655\n",
      "65 0.0026402000003145076\n",
      "66 0.001462300000639516\n",
      "67 0.0013943999983894173\n",
      "68 0.0014233999991120072\n",
      "69 0.001468399999794201\n",
      "70 0.0014694000001327367\n"
     ]
    }
   ],
   "source": [
    "for i,x in enumerate(fin):\n",
    "    print(i,x)"
   ]
  },
  {
   "cell_type": "code",
   "execution_count": 51,
   "metadata": {},
   "outputs": [],
   "source": [
    "from matplotlib import pyplot as plt"
   ]
  },
  {
   "cell_type": "code",
   "execution_count": 83,
   "metadata": {},
   "outputs": [
    {
     "data": {
      "text/plain": [
       "[<matplotlib.lines.Line2D at 0x19b70504d08>]"
      ]
     },
     "execution_count": 83,
     "metadata": {},
     "output_type": "execute_result"
    },
    {
     "data": {
      "image/png": "[encoded data removed]",
      "text/plain": [
       "<Figure size 432x288 with 1 Axes>"
      ]
     },
     "metadata": {
      "needs_background": "light"
     },
     "output_type": "display_data"
    }
   ],
   "source": [
    "x=[]\n",
    "y=[]\n",
    "for i,v in enumerate(fin):\n",
    "    x.append(i)\n",
    "    y.append(v)\n",
    "plt.plot(x,y)"
   ]
  },
  {
   "cell_type": "code",
   "execution_count": 84,
   "metadata": {},
   "outputs": [],
   "source": [
    "import prob1\n",
    "import timeit\n",
    "\n",
    "def time_check(start,fin,by,function,rfin,rby):\n",
    "    fin=[]\n",
    "    for i in list(range(start,fin,by)):\n",
    "        code='from __main__ import {}'.format(function)\n",
    "        code_main='merge_sort(list(range({0},{1},{2})))'.format(str(i),str(rfin),str(rby))\n",
    "\n",
    "        execution_time = timeit.repeat(stmt=code_main, setup= code, number=1, repeat=3)\n",
    "\n",
    "        ti=min(execution_time)\n",
    "\n",
    "        fin.append(ti)"
   ]
  },
  {
   "cell_type": "code",
   "execution_count": 85,
   "metadata": {},
   "outputs": [],
   "source": [
    "# -*- coding: utf-8 -*-\n",
    "\"\"\"\n",
    "Created on Wed Apr 29 15:08:58 2020\n",
    "\n",
    "@author: main\n",
    "\"\"\"\n",
    "\n",
    "import timeit\n",
    "\n",
    "def time_check(start,fin,by,function,rfin,rby):\n",
    "    fin=[]\n",
    "    a=list(range(start,fin,by))\n",
    "    for i in a:\n",
    "        code='from __main__ import {}'.format(function)\n",
    "        code_main='{3}(list(range({0},{1},{2})))'.format(str(rfin),str(i),str(rby),function)\n",
    "\n",
    "        execution_time = timeit.repeat(stmt=code_main, setup= code, number=1, repeat=3)\n",
    "\n",
    "        ti=min(execution_time)\n",
    "\n",
    "        fin.append(ti)\n",
    "    "
   ]
  },
  {
   "cell_type": "code",
   "execution_count": 86,
   "metadata": {},
   "outputs": [
    {
     "ename": "TypeError",
     "evalue": "'list' object cannot be interpreted as an integer",
     "output_type": "error",
     "traceback": [
      "\u001b[1;31m---------------------------------------------------------------------------\u001b[0m",
      "\u001b[1;31mTypeError\u001b[0m                                 Traceback (most recent call last)",
      "\u001b[1;32m<ipython-input-86-c16f5b3c9413>\u001b[0m in \u001b[0;36m<module>\u001b[1;34m\u001b[0m\n\u001b[1;32m----> 1\u001b[1;33m \u001b[0mtime_check\u001b[0m\u001b[1;33m(\u001b[0m\u001b[1;36m100\u001b[0m\u001b[1;33m,\u001b[0m\u001b[1;36m2001\u001b[0m\u001b[1;33m,\u001b[0m\u001b[1;36m100\u001b[0m\u001b[1;33m,\u001b[0m\u001b[1;34m'merge_sort'\u001b[0m\u001b[1;33m,\u001b[0m\u001b[1;36m0\u001b[0m\u001b[1;33m,\u001b[0m\u001b[1;33m-\u001b[0m\u001b[1;36m2\u001b[0m\u001b[1;33m)\u001b[0m\u001b[1;33m\u001b[0m\u001b[1;33m\u001b[0m\u001b[0m\n\u001b[0m",
      "\u001b[1;32m<ipython-input-85-b27105d62d33>\u001b[0m in \u001b[0;36mtime_check\u001b[1;34m(start, fin, by, function, rfin, rby)\u001b[0m\n\u001b[0;32m     10\u001b[0m \u001b[1;32mdef\u001b[0m \u001b[0mtime_check\u001b[0m\u001b[1;33m(\u001b[0m\u001b[0mstart\u001b[0m\u001b[1;33m,\u001b[0m\u001b[0mfin\u001b[0m\u001b[1;33m,\u001b[0m\u001b[0mby\u001b[0m\u001b[1;33m,\u001b[0m\u001b[0mfunction\u001b[0m\u001b[1;33m,\u001b[0m\u001b[0mrfin\u001b[0m\u001b[1;33m,\u001b[0m\u001b[0mrby\u001b[0m\u001b[1;33m)\u001b[0m\u001b[1;33m:\u001b[0m\u001b[1;33m\u001b[0m\u001b[1;33m\u001b[0m\u001b[0m\n\u001b[0;32m     11\u001b[0m     \u001b[0mfin\u001b[0m\u001b[1;33m=\u001b[0m\u001b[1;33m[\u001b[0m\u001b[1;33m]\u001b[0m\u001b[1;33m\u001b[0m\u001b[1;33m\u001b[0m\u001b[0m\n\u001b[1;32m---> 12\u001b[1;33m     \u001b[0ma\u001b[0m\u001b[1;33m=\u001b[0m\u001b[0mlist\u001b[0m\u001b[1;33m(\u001b[0m\u001b[0mrange\u001b[0m\u001b[1;33m(\u001b[0m\u001b[0mstart\u001b[0m\u001b[1;33m,\u001b[0m\u001b[0mfin\u001b[0m\u001b[1;33m,\u001b[0m\u001b[0mby\u001b[0m\u001b[1;33m)\u001b[0m\u001b[1;33m)\u001b[0m\u001b[1;33m\u001b[0m\u001b[1;33m\u001b[0m\u001b[0m\n\u001b[0m\u001b[0;32m     13\u001b[0m     \u001b[1;32mfor\u001b[0m \u001b[0mi\u001b[0m \u001b[1;32min\u001b[0m \u001b[0ma\u001b[0m\u001b[1;33m:\u001b[0m\u001b[1;33m\u001b[0m\u001b[1;33m\u001b[0m\u001b[0m\n\u001b[0;32m     14\u001b[0m         \u001b[0mcode\u001b[0m\u001b[1;33m=\u001b[0m\u001b[1;34m'from __main__ import {}'\u001b[0m\u001b[1;33m.\u001b[0m\u001b[0mformat\u001b[0m\u001b[1;33m(\u001b[0m\u001b[0mfunction\u001b[0m\u001b[1;33m)\u001b[0m\u001b[1;33m\u001b[0m\u001b[1;33m\u001b[0m\u001b[0m\n",
      "\u001b[1;31mTypeError\u001b[0m: 'list' object cannot be interpreted as an integer"
     ]
    }
   ],
   "source": [
    "time_check(1000,10001,1000,'quick',0,-2)"
   ]
  },
  {
   "cell_type": "code",
   "execution_count": 9,
   "metadata": {},
   "outputs": [
    {
     "ename": "SyntaxError",
     "evalue": "invalid syntax (<ipython-input-9-0c5056a0607c>, line 11)",
     "output_type": "error",
     "traceback": [
      "\u001b[1;36m  File \u001b[1;32m\"<ipython-input-9-0c5056a0607c>\"\u001b[1;36m, line \u001b[1;32m11\u001b[0m\n\u001b[1;33m    def time_check\u001b[0m\n\u001b[1;37m                  ^\u001b[0m\n\u001b[1;31mSyntaxError\u001b[0m\u001b[1;31m:\u001b[0m invalid syntax\n"
     ]
    }
   ],
   "source": [
    "# -*- coding: utf-8 -*-\n",
    "\"\"\"\n",
    "Created on Wed Apr 29 15:08:58 2020\n",
    "\n",
    "@author: main\n",
    "\"\"\"\n",
    "\n",
    "import timeit\n",
    "from matplotlib import pyplot as plt\n",
    "\n",
    "def time_check\n",
    "fin=[]\n",
    "a=list(range(1000,10001,1000))\n",
    "for i in a:\n",
    "    code='from __main__ import {}'.format('bubble_sort')\n",
    "    code_main='{3}(list(range({1},{0},{2})))'.format(str(0),str(i),str(-1),'bubble_sort')\n",
    "\n",
    "    execution_time = timeit.repeat(stmt=code_main, setup= code, number=1, repeat=1)\n",
    "\n",
    "    ti=min(execution_time)\n",
    "\n",
    "    fin.append(ti)\n",
    "    "
   ]
  },
  {
   "cell_type": "code",
   "execution_count": 22,
   "metadata": {},
   "outputs": [],
   "source": [
    "import timeit\n",
    "\n",
    "def time_check(start,fin,by,function,rby):\n",
    "    final=[]\n",
    "    k=range(start,fin,by)\n",
    "    a=list(k)\n",
    "    \n",
    "    for i in a:\n",
    "        code='from prob1 import {}'.format(function)\n",
    "        code_main='{2}(list(range(9*10**{0},9*10**{0}-99999,{1})),{0}+1)'.format(str(i),str(rby),function)\n",
    "\n",
    "        execution_time = timeit.repeat(stmt=code_main, setup= code, number=1, repeat=3)\n",
    "\n",
    "        ti=min(execution_time)\n",
    "        \n",
    "        final.append(ti)\n",
    "    \n",
    "    return final\n"
   ]
  },
  {
   "cell_type": "code",
   "execution_count": 28,
   "metadata": {},
   "outputs": [],
   "source": [
    "a=time_check(1000,9001,1000,'radix_sort',0,-1)"
   ]
  },
  {
   "cell_type": "code",
   "execution_count": 29,
   "metadata": {
    "scrolled": true
   },
   "outputs": [
    {
     "data": {
      "text/plain": [
       "[0.23084860000017215,\n",
       " 1.2689362999990408,\n",
       " 2.786930600001142,\n",
       " 5.306924299999082,\n",
       " 7.986326099999133,\n",
       " 12.339977999999974,\n",
       " 17.76004770000145,\n",
       " 21.42090889999963,\n",
       " 30.51167329999953]"
      ]
     },
     "execution_count": 29,
     "metadata": {},
     "output_type": "execute_result"
    }
   ],
   "source": [
    "a"
   ]
  },
  {
   "cell_type": "code",
   "execution_count": 30,
   "metadata": {},
   "outputs": [
    {
     "data": {
      "text/plain": [
       "[<matplotlib.lines.Line2D at 0x1a43d9d5e48>]"
      ]
     },
     "execution_count": 30,
     "metadata": {},
     "output_type": "execute_result"
    },
    {
     "data": {
      "image/png": "[encoded data removed]",
      "text/plain": [
       "<Figure size 432x288 with 1 Axes>"
      ]
     },
     "metadata": {
      "needs_background": "light"
     },
     "output_type": "display_data"
    }
   ],
   "source": [
    "\n",
    "from matplotlib import pyplot as plt\n",
    "x=[]\n",
    "y=[]\n",
    "for i,v in enumerate(a):\n",
    "    mem_x=1000*(i+1)\n",
    "    x.append(mem_x)\n",
    "    y.append(v)\n",
    "plt.plot(x,y)"
   ]
  },
  {
   "cell_type": "code",
   "execution_count": 3,
   "metadata": {},
   "outputs": [],
   "source": [
    "import sys\n",
    "sys.setrecursionlimit(400000)"
   ]
  },
  {
   "cell_type": "code",
   "execution_count": 12,
   "metadata": {},
   "outputs": [
    {
     "data": {
      "text/plain": [
       "[<matplotlib.lines.Line2D at 0x1b0cb681988>]"
      ]
     },
     "execution_count": 12,
     "metadata": {},
     "output_type": "execute_result"
    },
    {
     "data": {
      "image/png": "[encoded data removed]",
      "text/plain": [
       "<Figure size 432x288 with 1 Axes>"
      ]
     },
     "metadata": {
      "needs_background": "light"
     },
     "output_type": "display_data"
    }
   ],
   "source": [
    "x2=[mem**2 for mem in x]\n",
    "plt.plot(x2, y)"
   ]
  },
  {
   "cell_type": "code",
   "execution_count": 101,
   "metadata": {},
   "outputs": [],
   "source": [
    "import numpy as np"
   ]
  },
  {
   "cell_type": "code",
   "execution_count": 123,
   "metadata": {},
   "outputs": [],
   "source": [
    "x1=np.array(x)"
   ]
  },
  {
   "cell_type": "code",
   "execution_count": 124,
   "metadata": {},
   "outputs": [
    {
     "data": {
      "text/plain": [
       "array([ 1000,  2000,  3000,  4000,  5000,  6000,  7000,  8000,  9000,\n",
       "       10000])"
      ]
     },
     "execution_count": 124,
     "metadata": {},
     "output_type": "execute_result"
    }
   ],
   "source": [
    "x1"
   ]
  },
  {
   "cell_type": "code",
   "execution_count": 145,
   "metadata": {},
   "outputs": [],
   "source": [
    "yfin=np.array(final)"
   ]
  },
  {
   "cell_type": "code",
   "execution_count": 146,
   "metadata": {},
   "outputs": [
    {
     "data": {
      "text/plain": [
       "array([ 0.2557218,  1.2003284,  2.7913419,  4.8564154,  7.8333216,\n",
       "       12.0181218, 15.4569589, 19.871171 , 25.243472 , 32.3328871])"
      ]
     },
     "execution_count": 146,
     "metadata": {},
     "output_type": "execute_result"
    }
   ],
   "source": [
    "yfin"
   ]
  },
  {
   "cell_type": "code",
   "execution_count": 129,
   "metadata": {},
   "outputs": [
    {
     "data": {
      "text/plain": [
       "10"
      ]
     },
     "execution_count": 129,
     "metadata": {},
     "output_type": "execute_result"
    }
   ],
   "source": [
    "len(y)"
   ]
  },
  {
   "cell_type": "code",
   "execution_count": 130,
   "metadata": {},
   "outputs": [],
   "source": [
    "x2=np.array(x2)"
   ]
  },
  {
   "cell_type": "code",
   "execution_count": 131,
   "metadata": {},
   "outputs": [
    {
     "data": {
      "text/plain": [
       "array([  1000000,   4000000,   9000000,  16000000,  25000000,  36000000,\n",
       "        49000000,  64000000,  81000000, 100000000])"
      ]
     },
     "execution_count": 131,
     "metadata": {},
     "output_type": "execute_result"
    }
   ],
   "source": [
    "x2"
   ]
  },
  {
   "cell_type": "code",
   "execution_count": 8,
   "metadata": {},
   "outputs": [],
   "source": [
    "def insertion_sort(l):\n",
    "    n=len(l)\n",
    "    \n",
    "    for j in range(1,n):\n",
    "        key=l[j]\n",
    "        i=j-1\n",
    "        while((i>=0)and (key<l[i])):\n",
    "            l[i+1]=l[i]\n",
    "            i-=1\n",
    "        l[i+1]=key\n",
    "    return l"
   ]
  },
  {
   "cell_type": "code",
   "execution_count": 18,
   "metadata": {},
   "outputs": [],
   "source": [
    "from prob1 import merge_sort, quick_sort, radix_sort"
   ]
  },
  {
   "cell_type": "code",
   "execution_count": 1,
   "metadata": {},
   "outputs": [],
   "source": [
    "import sys"
   ]
  },
  {
   "cell_type": "code",
   "execution_count": 2,
   "metadata": {},
   "outputs": [
    {
     "name": "stdout",
     "output_type": "stream",
     "text": [
      "3.7.6 (default, Jan  8 2020, 20:23:39) [MSC v.1916 64 bit (AMD64)]\n"
     ]
    }
   ],
   "source": [
    "print(sys.version)"
   ]
  },
  {
   "cell_type": "code",
   "execution_count": 24,
   "metadata": {},
   "outputs": [],
   "source": [
    "def radix_sort(l,d):   \n",
    "    \n",
    "    for r in range(0,d):\n",
    "        c=[0]*10\n",
    "        m=10**r\n",
    "        for i in l:\n",
    "            key=int((i%(m*10))/m) #remainder by 10m\n",
    "            c[key]+=1     # identify how many cases exist in each digit\n",
    "        for j in range(1,10):\n",
    "            c[j]=c[j-1]+c[j]   #identify cumulated number\n",
    "        n=len(l)\n",
    "        t=[0]*n\n",
    "        \n",
    "        for i in range(n-1,-1,-1):\n",
    "            key=int((l[i]%(m*10))/m)\n",
    "            t[c[key]-1]=l[i]   #cumulative number -1 would be the last place to be put into\n",
    "            c[key]=c[key]-1\n",
    "        \n",
    "        for i in range(0,n):\n",
    "            l[i]=t[i]\n",
    "    return l"
   ]
  },
  {
   "cell_type": "code",
   "execution_count": 27,
   "metadata": {},
   "outputs": [],
   "source": [
    "def time_check(start,fin,by,function,rfin,rby):\n",
    "    final=[]\n",
    "    k=range(start,fin,by)\n",
    "    a=list(k)\n",
    "    \n",
    "    for i in a:\n",
    "        code='from prob1 import {}'.format(function)\n",
    "        code_main='{3}(list(range({0},{1},{2})),4)'.format(str(i),str(rfin),str(rby),function)\n",
    "\n",
    "        execution_time = timeit.repeat(stmt=code_main, setup= code, number=1, repeat=2)\n",
    "\n",
    "        ti=min(execution_time)\n",
    "        \n",
    "        final.append(ti)\n",
    "    \n",
    "    return final\n"
   ]
  },
  {
   "cell_type": "code",
   "execution_count": 31,
   "metadata": {},
   "outputs": [],
   "source": [
    "def radix_sort(l,d):   \n",
    "    def insertion_sort(l):   #insertion sort for stable algorithm\n",
    "        n=len(l)\n",
    "        \n",
    "        for j in range(1,n):\n",
    "            keypair=l[j]\n",
    "            key=l[j][1]\n",
    "            i=j-1\n",
    "            while((i>=0)and (key<l[i][1])):\n",
    "                \n",
    "                l[i+1]=l[i]\n",
    "                i-=1\n",
    "            l[i+1]=keypair\n",
    "          \n",
    "        return l\n",
    "    t=[]  # make an empty list\n",
    "    for i in range(0,d):  # d is place value of the biggest number in the list\n",
    "        x=10**i\n",
    "        \n",
    "        if t==[]:\n",
    "            for mem in l:\n",
    "\n",
    "                y=mem%(x*10)  #remainder when divided by 10x \n",
    "                z=y//x        #get the right place value (quotient)\n",
    "                t.append([mem,z])   #make a list of pair\n",
    "\n",
    "            t=insertion_sort(t)\n",
    "            tim=timeit\n",
    "        else:\n",
    "            k=0\n",
    "            for mem in [pair[0] for pair in t] :\n",
    "                y=mem%(x*10)\n",
    "                z=y//x\n",
    "                t[k][1]=z  #change to new place value \n",
    "                k+=1\n",
    "            \n",
    "            t=insertion_sort(t)\n",
    "            \n",
    "    result=[pair[0] for pair in t]   #extract original elements\n",
    "    return result\n",
    "        "
   ]
  },
  {
   "cell_type": "code",
   "execution_count": 36,
   "metadata": {},
   "outputs": [],
   "source": [
    "\n",
    "import datetime\n",
    "dif=[]\n",
    "def radix_sort(l,d):   \n",
    "    def insertion_sort(l):   #insertion sort for stable algorithm\n",
    "        n=len(l)\n",
    "        \n",
    "        for j in range(1,n):\n",
    "            keypair=l[j]\n",
    "            key=l[j][1]\n",
    "            i=j-1\n",
    "            while((i>=0)and (key<l[i][1])):\n",
    "                \n",
    "                l[i+1]=l[i]\n",
    "                i-=1\n",
    "            l[i+1]=keypair\n",
    "            \n",
    "        return l\n",
    "    t=[]  # make an empty list\n",
    "    for i in range(0,d):  # d is place value of the biggest number in the list\n",
    "        x=10**i\n",
    "        \n",
    "        if t==[]:\n",
    "            for mem in l:\n",
    "\n",
    "                y=mem%(x*10)  #remainder when divided by 10x \n",
    "                z=y//x        #get the right place value (quotient)\n",
    "                t.append([mem,z])   #make a list of pair\n",
    "            a=datetime.datetime.now()\n",
    "            t=insertion_sort(t)\n",
    "            b=datetime.datetime.now()\n",
    "            c=b-a\n",
    "            dif.append(c)\n",
    "        else:\n",
    "            k=0\n",
    "            for mem in [pair[0] for pair in t] :\n",
    "                y=mem%(x*10)\n",
    "                z=y//x\n",
    "                t[k][1]=z  #change to new place value \n",
    "                k+=1\n",
    "            a=datetime.datetime.now()\n",
    "            t=insertion_sort(t)\n",
    "            b=datetime.datetime.now()\n",
    "            c=b-a\n",
    "            dif.append(c)\n",
    "    result=[pair[0] for pair in t]   #extract original elements\n",
    "    return dif"
   ]
  },
  {
   "cell_type": "code",
   "execution_count": 38,
   "metadata": {},
   "outputs": [
    {
     "ename": "KeyboardInterrupt",
     "evalue": "",
     "output_type": "error",
     "traceback": [
      "\u001b[1;31m---------------------------------------------------------------------------\u001b[0m",
      "\u001b[1;31mKeyboardInterrupt\u001b[0m                         Traceback (most recent call last)",
      "\u001b[1;32m<ipython-input-38-0cc1b447d40c>\u001b[0m in \u001b[0;36m<module>\u001b[1;34m\u001b[0m\n\u001b[0;32m      1\u001b[0m \u001b[1;32mfor\u001b[0m \u001b[0mi\u001b[0m \u001b[1;32min\u001b[0m \u001b[0mrange\u001b[0m\u001b[1;33m(\u001b[0m\u001b[1;36m5\u001b[0m\u001b[1;33m,\u001b[0m\u001b[1;36m16\u001b[0m\u001b[1;33m)\u001b[0m\u001b[1;33m:\u001b[0m\u001b[1;33m\u001b[0m\u001b[1;33m\u001b[0m\u001b[0m\n\u001b[1;32m----> 2\u001b[1;33m     \u001b[0mradix_sort\u001b[0m\u001b[1;33m(\u001b[0m\u001b[0mlist\u001b[0m\u001b[1;33m(\u001b[0m\u001b[0mrange\u001b[0m\u001b[1;33m(\u001b[0m\u001b[1;36m9\u001b[0m\u001b[1;33m*\u001b[0m\u001b[1;36m10\u001b[0m\u001b[1;33m**\u001b[0m\u001b[0mi\u001b[0m\u001b[1;33m,\u001b[0m\u001b[1;36m9\u001b[0m\u001b[1;33m*\u001b[0m\u001b[1;36m10\u001b[0m\u001b[1;33m**\u001b[0m\u001b[0mi\u001b[0m\u001b[1;33m-\u001b[0m\u001b[1;36m99999\u001b[0m\u001b[1;33m,\u001b[0m\u001b[1;33m-\u001b[0m\u001b[1;36m1\u001b[0m\u001b[1;33m)\u001b[0m\u001b[1;33m)\u001b[0m\u001b[1;33m,\u001b[0m\u001b[0mi\u001b[0m\u001b[1;33m+\u001b[0m\u001b[1;36m1\u001b[0m\u001b[1;33m)\u001b[0m\u001b[1;33m\u001b[0m\u001b[1;33m\u001b[0m\u001b[0m\n\u001b[0m",
      "\u001b[1;32m<ipython-input-36-2d27d37e3777>\u001b[0m in \u001b[0;36mradix_sort\u001b[1;34m(l, d)\u001b[0m\n\u001b[0;32m     27\u001b[0m                 \u001b[0mt\u001b[0m\u001b[1;33m.\u001b[0m\u001b[0mappend\u001b[0m\u001b[1;33m(\u001b[0m\u001b[1;33m[\u001b[0m\u001b[0mmem\u001b[0m\u001b[1;33m,\u001b[0m\u001b[0mz\u001b[0m\u001b[1;33m]\u001b[0m\u001b[1;33m)\u001b[0m   \u001b[1;31m#make a list of pair\u001b[0m\u001b[1;33m\u001b[0m\u001b[1;33m\u001b[0m\u001b[0m\n\u001b[0;32m     28\u001b[0m             \u001b[0ma\u001b[0m\u001b[1;33m=\u001b[0m\u001b[0mdatetime\u001b[0m\u001b[1;33m.\u001b[0m\u001b[0mdatetime\u001b[0m\u001b[1;33m.\u001b[0m\u001b[0mnow\u001b[0m\u001b[1;33m(\u001b[0m\u001b[1;33m)\u001b[0m\u001b[1;33m\u001b[0m\u001b[1;33m\u001b[0m\u001b[0m\n\u001b[1;32m---> 29\u001b[1;33m             \u001b[0mt\u001b[0m\u001b[1;33m=\u001b[0m\u001b[0minsertion_sort\u001b[0m\u001b[1;33m(\u001b[0m\u001b[0mt\u001b[0m\u001b[1;33m)\u001b[0m\u001b[1;33m\u001b[0m\u001b[1;33m\u001b[0m\u001b[0m\n\u001b[0m\u001b[0;32m     30\u001b[0m             \u001b[0mb\u001b[0m\u001b[1;33m=\u001b[0m\u001b[0mdatetime\u001b[0m\u001b[1;33m.\u001b[0m\u001b[0mdatetime\u001b[0m\u001b[1;33m.\u001b[0m\u001b[0mnow\u001b[0m\u001b[1;33m(\u001b[0m\u001b[1;33m)\u001b[0m\u001b[1;33m\u001b[0m\u001b[1;33m\u001b[0m\u001b[0m\n\u001b[0;32m     31\u001b[0m             \u001b[0mc\u001b[0m\u001b[1;33m=\u001b[0m\u001b[0mb\u001b[0m\u001b[1;33m-\u001b[0m\u001b[0ma\u001b[0m\u001b[1;33m\u001b[0m\u001b[1;33m\u001b[0m\u001b[0m\n",
      "\u001b[1;32m<ipython-input-36-2d27d37e3777>\u001b[0m in \u001b[0;36minsertion_sort\u001b[1;34m(l)\u001b[0m\n\u001b[0;32m      9\u001b[0m             \u001b[0mkey\u001b[0m\u001b[1;33m=\u001b[0m\u001b[0ml\u001b[0m\u001b[1;33m[\u001b[0m\u001b[0mj\u001b[0m\u001b[1;33m]\u001b[0m\u001b[1;33m[\u001b[0m\u001b[1;36m1\u001b[0m\u001b[1;33m]\u001b[0m\u001b[1;33m\u001b[0m\u001b[1;33m\u001b[0m\u001b[0m\n\u001b[0;32m     10\u001b[0m             \u001b[0mi\u001b[0m\u001b[1;33m=\u001b[0m\u001b[0mj\u001b[0m\u001b[1;33m-\u001b[0m\u001b[1;36m1\u001b[0m\u001b[1;33m\u001b[0m\u001b[1;33m\u001b[0m\u001b[0m\n\u001b[1;32m---> 11\u001b[1;33m             \u001b[1;32mwhile\u001b[0m\u001b[1;33m(\u001b[0m\u001b[1;33m(\u001b[0m\u001b[0mi\u001b[0m\u001b[1;33m>=\u001b[0m\u001b[1;36m0\u001b[0m\u001b[1;33m)\u001b[0m\u001b[1;32mand\u001b[0m \u001b[1;33m(\u001b[0m\u001b[0mkey\u001b[0m\u001b[1;33m<\u001b[0m\u001b[0ml\u001b[0m\u001b[1;33m[\u001b[0m\u001b[0mi\u001b[0m\u001b[1;33m]\u001b[0m\u001b[1;33m[\u001b[0m\u001b[1;36m1\u001b[0m\u001b[1;33m]\u001b[0m\u001b[1;33m)\u001b[0m\u001b[1;33m)\u001b[0m\u001b[1;33m:\u001b[0m\u001b[1;33m\u001b[0m\u001b[1;33m\u001b[0m\u001b[0m\n\u001b[0m\u001b[0;32m     12\u001b[0m \u001b[1;33m\u001b[0m\u001b[0m\n\u001b[0;32m     13\u001b[0m                 \u001b[0ml\u001b[0m\u001b[1;33m[\u001b[0m\u001b[0mi\u001b[0m\u001b[1;33m+\u001b[0m\u001b[1;36m1\u001b[0m\u001b[1;33m]\u001b[0m\u001b[1;33m=\u001b[0m\u001b[0ml\u001b[0m\u001b[1;33m[\u001b[0m\u001b[0mi\u001b[0m\u001b[1;33m]\u001b[0m\u001b[1;33m\u001b[0m\u001b[1;33m\u001b[0m\u001b[0m\n",
      "\u001b[1;31mKeyboardInterrupt\u001b[0m: "
     ]
    }
   ],
   "source": [
    "for i in range(5,16):\n",
    "    radix_sort(list(range(9*10**i,9*10**i-99999,-1)),i+1)"
   ]
  },
  {
   "cell_type": "code",
   "execution_count": null,
   "metadata": {},
   "outputs": [],
   "source": []
  }
 ],
 "metadata": {
  "kernelspec": {
   "display_name": "Python 3",
   "language": "python",
   "name": "python3"
  },
  "language_info": {
   "codemirror_mode": {
    "name": "ipython",
    "version": 3
   },
   "file_extension": ".py",
   "mimetype": "text/x-python",
   "name": "python",
   "nbconvert_exporter": "python",
   "pygments_lexer": "ipython3",
   "version": "3.7.6"
  }
 },
 "nbformat": 4,
 "nbformat_minor": 4
}
